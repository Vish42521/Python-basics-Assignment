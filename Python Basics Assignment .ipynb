{
 "cells": [
  {
   "cell_type": "code",
   "execution_count": null,
   "id": "425284b1-c9f2-4cdf-b27e-8bcbb147ac8f",
   "metadata": {},
   "outputs": [],
   "source": [
    "# Assignment on Python Basics"
   ]
  },
  {
   "cell_type": "code",
   "execution_count": null,
   "id": "9a84a5b2-3a29-4b40-afa4-d7149d7afeaf",
   "metadata": {},
   "outputs": [],
   "source": [
    "#Q.1 What is Python and why is it popular?\n",
    "\n",
    "# Ans>> Python is programming language that is easy to read and write. It is popular because it can be used for many things like data analysis, \n",
    "# automation, web development and it also has many built in libraries.\n"
   ]
  },
  {
   "cell_type": "code",
   "execution_count": 3,
   "id": "9f3cd991-ec22-46f5-b35d-3b29bcb913c3",
   "metadata": {},
   "outputs": [],
   "source": [
    "#Q.2 What is an interpreter in python?\n",
    "# Ans >> An interpreter is a programm that runs python code line by line in stead of converting it all at once"
   ]
  },
  {
   "cell_type": "code",
   "execution_count": null,
   "id": "77ce17e6-995c-40af-a579-62db50bbf8f9",
   "metadata": {},
   "outputs": [],
   "source": [
    "# Q.3 What are the pre define keyword in python?\n",
    "# Ans>> Key words are special words that python already understand and cannot be used ass variable names \n",
    "# for example if, else, while, input etc."
   ]
  },
  {
   "cell_type": "code",
   "execution_count": null,
   "id": "1cbd491b-52c4-43ab-be70-adb61db9fda1",
   "metadata": {},
   "outputs": [],
   "source": [
    "# Q.4 Can key word be used as variable names?\n",
    "# Ans>> No, We can not use keywords as variable names."
   ]
  },
  {
   "cell_type": "code",
   "execution_count": null,
   "id": "5e54e9b4-48e9-4af4-9927-2c9b8505892a",
   "metadata": {},
   "outputs": [],
   "source": [
    "# Q.5 What is immutability in python?\n",
    "# Ans>> Immutability is something cannot be change after it is created. \n",
    "#in Python some data types cannot be modify after they are created."
   ]
  },
  {
   "cell_type": "code",
   "execution_count": null,
   "id": "df730e6f-2794-4009-9a27-8db9b6c3a64a",
   "metadata": {},
   "outputs": [],
   "source": [
    "#Q.6 Why are list mutable and tuples are immutable?\n",
    "# Ans>> #objects/container whose state or value can be changed after they are created are\n",
    "#called as mutable objects or container, \n",
    "#list is a type of mutable object/supports item assignment\n",
    "\n",
    "\n",
    "# Tuple can not be change after creation so they are immutable\n",
    "#objects/container whose state or value can not be changed after they are created are\n",
    "#called as immutable objects or container, \n",
    "#string is a type of immutable object/ doesn't supports item assignment"
   ]
  },
  {
   "cell_type": "code",
   "execution_count": 20,
   "id": "65d2b77a-8322-4c51-9718-3ff7eda4253b",
   "metadata": {},
   "outputs": [
    {
     "data": {
      "text/plain": [
       "[1, 5, 'Vishal', 'pwskill']"
      ]
     },
     "execution_count": 20,
     "metadata": {},
     "output_type": "execute_result"
    }
   ],
   "source": [
    "List = [1,5, \"Vishal\", \"pwskill\"]\n",
    "List"
   ]
  },
  {
   "cell_type": "code",
   "execution_count": 21,
   "id": "3f731406-a5d2-48db-9f44-c806b7e4f70f",
   "metadata": {},
   "outputs": [
    {
     "data": {
      "text/plain": [
       "'pwskill'"
      ]
     },
     "execution_count": 21,
     "metadata": {},
     "output_type": "execute_result"
    }
   ],
   "source": [
    "List[3]"
   ]
  },
  {
   "cell_type": "code",
   "execution_count": 22,
   "id": "64473582-4d0e-4624-9983-5a9e197a3f82",
   "metadata": {},
   "outputs": [],
   "source": [
    "List[3] = \"Kharat\""
   ]
  },
  {
   "cell_type": "code",
   "execution_count": 23,
   "id": "25785ff9-8400-4860-a757-ef28ab52d0cc",
   "metadata": {},
   "outputs": [
    {
     "data": {
      "text/plain": [
       "[1, 5, 'Vishal', 'Kharat']"
      ]
     },
     "execution_count": 23,
     "metadata": {},
     "output_type": "execute_result"
    }
   ],
   "source": [
    "List"
   ]
  },
  {
   "cell_type": "code",
   "execution_count": 32,
   "id": "4a32868f-3f05-4133-be0b-2e52d4528012",
   "metadata": {},
   "outputs": [
    {
     "data": {
      "text/plain": [
       "True"
      ]
     },
     "execution_count": 32,
     "metadata": {},
     "output_type": "execute_result"
    }
   ],
   "source": [
    "# Q.7 What is the difference between == and is operator in python\n",
    "# ans >> == Check / Compare two value and return a boolean value\n",
    "#for example\n",
    "2==2"
   ]
  },
  {
   "cell_type": "code",
   "execution_count": 36,
   "id": "f9ae5117-22ca-4c8d-8d20-4748ea00a924",
   "metadata": {},
   "outputs": [],
   "source": [
    "# is  checks if both objects are store in the same memory\n",
    "a=2"
   ]
  },
  {
   "cell_type": "code",
   "execution_count": null,
   "id": "dce177e4-5c5f-4805-bed9-6e20ba67e403",
   "metadata": {},
   "outputs": [],
   "source": [
    "b=2"
   ]
  },
  {
   "cell_type": "code",
   "execution_count": 37,
   "id": "578bdfac-5162-44f6-a02c-8f69de6a6a10",
   "metadata": {},
   "outputs": [
    {
     "data": {
      "text/plain": [
       "False"
      ]
     },
     "execution_count": 37,
     "metadata": {},
     "output_type": "execute_result"
    }
   ],
   "source": [
    "a is b"
   ]
  },
  {
   "cell_type": "code",
   "execution_count": 44,
   "id": "700ce3c8-7c21-401e-b820-ce594a1b4868",
   "metadata": {},
   "outputs": [],
   "source": [
    "#Q.8 What are logical operator in python?\n",
    "# Ans>> Logicals operator used in python are \n",
    "# and, or, not \n",
    "# and >> True only if Both condition are true\n",
    "# or >> True if at least one condition is true.\n",
    "# not >> Reverse the condition ( if something is true, it become false).\n"
   ]
  },
  {
   "cell_type": "code",
   "execution_count": null,
   "id": "c67ae39a-5c0e-4eb1-9e80-05ee7e742c81",
   "metadata": {},
   "outputs": [],
   "source": [
    "# Q.9 What is type casting in Python?\n",
    "# Ans >> Type casting means the process of changing the data of a value / object \n",
    "# because while executing /computation using operators, there can be mismatch between the data type"
   ]
  },
  {
   "cell_type": "code",
   "execution_count": 46,
   "id": "b30c8903-974d-496f-9908-feb523189e86",
   "metadata": {},
   "outputs": [
    {
     "ename": "TypeError",
     "evalue": "can only concatenate str (not \"int\") to str",
     "output_type": "error",
     "traceback": [
      "\u001b[31m---------------------------------------------------------------------------\u001b[39m",
      "\u001b[31mTypeError\u001b[39m                                 Traceback (most recent call last)",
      "\u001b[36mCell\u001b[39m\u001b[36m \u001b[39m\u001b[32mIn[46]\u001b[39m\u001b[32m, line 3\u001b[39m\n\u001b[32m      1\u001b[39m a = \u001b[33m\"\u001b[39m\u001b[33m2\u001b[39m\u001b[33m\"\u001b[39m  \u001b[38;5;66;03m# data type a is str\u001b[39;00m\n\u001b[32m      2\u001b[39m b = \u001b[32m3\u001b[39m   \u001b[38;5;66;03m# Data type b is int\u001b[39;00m\n\u001b[32m----> \u001b[39m\u001b[32m3\u001b[39m \u001b[43ma\u001b[49m\u001b[43m+\u001b[49m\u001b[43mb\u001b[49m  \u001b[38;5;66;03m# can not execute as data type is not same\u001b[39;00m\n",
      "\u001b[31mTypeError\u001b[39m: can only concatenate str (not \"int\") to str"
     ]
    }
   ],
   "source": [
    "# for example\n",
    "a = \"2\"  # data type a is str\n",
    "b = 3   # Data type b is int\n",
    "a+b  # can not execute as data type is not same"
   ]
  },
  {
   "cell_type": "code",
   "execution_count": 47,
   "id": "6727b5d8-e4ae-49be-b55a-6cfd69f4341a",
   "metadata": {},
   "outputs": [
    {
     "data": {
      "text/plain": [
       "5"
      ]
     },
     "execution_count": 47,
     "metadata": {},
     "output_type": "execute_result"
    }
   ],
   "source": [
    "int (a)+ b         #using type casting"
   ]
  },
  {
   "cell_type": "code",
   "execution_count": 50,
   "id": "c6728c4b-36b7-48a6-9a07-e0980106cbd8",
   "metadata": {},
   "outputs": [
    {
     "data": {
      "text/plain": [
       "14.6"
      ]
     },
     "execution_count": 50,
     "metadata": {},
     "output_type": "execute_result"
    }
   ],
   "source": [
    "#Q.10 What is the difference between implicit and explicit type casting?\n",
    "# Ans>> Implicit >> python converts data type Automatically\n",
    "# EX. \n",
    "a = 10\n",
    "b = 4.6\n",
    "a+b # int to Float convert"
   ]
  },
  {
   "cell_type": "markdown",
   "id": "381035ac-f545-438f-8e65-33c5d078260b",
   "metadata": {},
   "source": [
    "#Q.10 Ans >> Explicit >> We manually change data type"
   ]
  },
  {
   "cell_type": "code",
   "execution_count": 52,
   "id": "2737794f-bd99-421b-b357-b056052758cc",
   "metadata": {},
   "outputs": [
    {
     "data": {
      "text/plain": [
       "15"
      ]
     },
     "execution_count": 52,
     "metadata": {},
     "output_type": "execute_result"
    }
   ],
   "source": [
    "# example\n",
    "a =\"10\"\n",
    "b=5\n",
    "int(a)+b"
   ]
  },
  {
   "cell_type": "code",
   "execution_count": null,
   "id": "8524bde3-8d00-41e6-9f9b-ebe3ae70b735",
   "metadata": {},
   "outputs": [],
   "source": [
    "#Q.11 What is the purpose of conditional statement in Python?\n",
    "# Ans >> Conditonal statement helps you to code decision based on some precondition\n",
    "\n",
    "#if -> Runs a block of code if the condition is true\n",
    "# if - else -> runs one block if True, another if false\n",
    "# Elif ->  Checks multiple conditios"
   ]
  },
  {
   "cell_type": "code",
   "execution_count": 59,
   "id": "30ddb611-a3ea-4144-b989-264cf4a399a5",
   "metadata": {},
   "outputs": [
    {
     "name": "stdout",
     "output_type": "stream",
     "text": [
      "The number is smaller than 100\n"
     ]
    }
   ],
   "source": [
    "#Q.12  How does the elif statement works?\n",
    "# Ans>> The Elif statement checks multiple conditions.\n",
    "# Example\n",
    "\n",
    "a = 10\n",
    "if a > 100 :\n",
    "    print(\"The number is Greater than 100\")\n",
    "elif 0 < a < 100 :\n",
    "    print(\"The number is smaller than 100\")\n",
    "else:\n",
    "    print(\"The number is equal to 0\")\n",
    "    "
   ]
  },
  {
   "cell_type": "code",
   "execution_count": 60,
   "id": "b613c1d0-f390-4f20-a239-d8c6ae68703b",
   "metadata": {},
   "outputs": [
    {
     "name": "stdout",
     "output_type": "stream",
     "text": [
      "0\n",
      "1\n",
      "2\n",
      "3\n",
      "4\n"
     ]
    }
   ],
   "source": [
    "#Q.13  What is the difference between for and while loop?\n",
    "# Ans >> For loop >> when we know how many times to run\n",
    "for i in range (5):\n",
    "    print (i)"
   ]
  },
  {
   "cell_type": "code",
   "execution_count": 63,
   "id": "1b767b02-0499-46b8-af15-3719de2e322c",
   "metadata": {},
   "outputs": [
    {
     "name": "stdout",
     "output_type": "stream",
     "text": [
      "1\n",
      "2\n",
      "3\n",
      "4\n",
      "5\n",
      "6\n"
     ]
    }
   ],
   "source": [
    "Q.13 Ans ># While Loop >> when we dont know how many times to run\n",
    "\n",
    "n = 7\n",
    "i = 1\n",
    "while i < n:\n",
    "    print(i)\n",
    "    i = i+1"
   ]
  },
  {
   "cell_type": "code",
   "execution_count": 91,
   "id": "c2a6b624-0f2d-4068-8ed1-d7e0b02d3843",
   "metadata": {},
   "outputs": [
    {
     "name": "stdin",
     "output_type": "stream",
     "text": [
      "Enter Password:  Correct12\n"
     ]
    },
    {
     "name": "stdout",
     "output_type": "stream",
     "text": [
      "Incorrect Password, Try again\n"
     ]
    },
    {
     "name": "stdin",
     "output_type": "stream",
     "text": [
      "Enter Password:  Correct12\n"
     ]
    },
    {
     "name": "stdout",
     "output_type": "stream",
     "text": [
      "Incorrect Password, Try again\n"
     ]
    },
    {
     "name": "stdin",
     "output_type": "stream",
     "text": [
      "Enter Password:  Correct123\n"
     ]
    },
    {
     "name": "stdout",
     "output_type": "stream",
     "text": [
      "Access Granted\n"
     ]
    }
   ],
   "source": [
    "#Q.14  Describe a scenario where a while loop is more suitable than a for loop.\n",
    "\n",
    "# Ans >> A while loop is useful when you dont know exactly how many times you need to repeat something.\n",
    "# instead of running a set number of times, it keeps going until a condition is met.\n",
    "\n",
    "# For example Loging system\n",
    "\n",
    "you_password = \"Correct123\"\n",
    "attempts = 0\n",
    "max_attempts = 3\n",
    "\n",
    "while attempts < max_attempts:\n",
    "    password = input(\"Enter Password: \")\n",
    "    if password == you_password:\n",
    "        print (\"Access Granted\")\n",
    "        break\n",
    "    \n",
    "    else:\n",
    "        print(\"Incorrect Password, Try again\")\n",
    "        attempts +=1\n",
    "\n",
    "if attempts == max_attempts:\n",
    "    print(\"Too many attempts Access denied\")"
   ]
  },
  {
   "cell_type": "code",
   "execution_count": null,
   "id": "3857c505-8c59-4753-b8ce-635d75499d09",
   "metadata": {},
   "outputs": [],
   "source": [
    "# Practical Question"
   ]
  },
  {
   "cell_type": "code",
   "execution_count": 93,
   "id": "f5580e8e-1e6b-4765-8b9c-1dba50df7995",
   "metadata": {},
   "outputs": [
    {
     "name": "stdout",
     "output_type": "stream",
     "text": [
      "Hello, World!\n"
     ]
    }
   ],
   "source": [
    "#Q.1 Write a code to print a hello world!\n",
    "#Ans >>>\n",
    "print(\"Hello, World!\")"
   ]
  },
  {
   "cell_type": "markdown",
   "id": "fe18db45-bdbe-4b5d-8952-0eccee84ac7e",
   "metadata": {},
   "source": [
    "#Q.2 Write a program that display your name and age"
   ]
  },
  {
   "cell_type": "code",
   "execution_count": 95,
   "id": "db61289e-a98b-4a93-8a8c-2dd3b85d6dd9",
   "metadata": {},
   "outputs": [
    {
     "name": "stdout",
     "output_type": "stream",
     "text": [
      "My name is Vishal and My age is 30 years\n"
     ]
    }
   ],
   "source": [
    "#ANS >>\n",
    "\n",
    "Name = \"Vishal\"\n",
    "Age = 30\n",
    "\n",
    "print(f\"My name is {Name} and My age is {Age} years\")"
   ]
  },
  {
   "cell_type": "markdown",
   "id": "a1fff1f9-1f19-4b85-acbc-1132ae5e92da",
   "metadata": {},
   "source": [
    "#Q.3  Write a code to print all the pre define keywords in python using the keyword library"
   ]
  },
  {
   "cell_type": "code",
   "execution_count": 98,
   "id": "98ea47ed-c5a2-4596-b810-a501924e5281",
   "metadata": {},
   "outputs": [
    {
     "name": "stdout",
     "output_type": "stream",
     "text": [
      "\n",
      "Here is a list of the Python keywords.  Enter any keyword to get more help.\n",
      "\n",
      "False               class               from                or\n",
      "None                continue            global              pass\n",
      "True                def                 if                  raise\n",
      "and                 del                 import              return\n",
      "as                  elif                in                  try\n",
      "assert              else                is                  while\n",
      "async               except              lambda              with\n",
      "await               finally             nonlocal            yield\n",
      "break               for                 not                 \n",
      "\n"
     ]
    }
   ],
   "source": [
    "#Ans >>\n",
    "\n",
    "help('keywords')"
   ]
  },
  {
   "cell_type": "code",
   "execution_count": null,
   "id": "be3dd186-34d0-4a02-b52c-97c036dd0acd",
   "metadata": {},
   "outputs": [],
   "source": [
    "#Q.4 Write a program that checks if a given word is a Python keyword"
   ]
  },
  {
   "cell_type": "code",
   "execution_count": 106,
   "id": "1d3c328b-0fc1-4cbc-b6a6-973e8f36954e",
   "metadata": {},
   "outputs": [
    {
     "name": "stdin",
     "output_type": "stream",
     "text": [
      "Enter a word and\n"
     ]
    },
    {
     "name": "stdout",
     "output_type": "stream",
     "text": [
      "and keyword is: True\n"
     ]
    }
   ],
   "source": [
    "import keyword\n",
    "word = input (\"Enter a word\")\n",
    "print(f\"{word} keyword is: {word in keyword.kwlist}\")"
   ]
  },
  {
   "cell_type": "code",
   "execution_count": 111,
   "id": "a6c80e1c-879b-4cf2-981d-9aa5e160b2aa",
   "metadata": {},
   "outputs": [],
   "source": [
    "#Q.5 Create a list and tuple in Python, and demonstrate how attempting to change an element works differently\n",
    "# for each."
   ]
  },
  {
   "cell_type": "code",
   "execution_count": 116,
   "id": "b87d611a-6063-4e2f-bf44-cc5ee5b858f8",
   "metadata": {},
   "outputs": [
    {
     "data": {
      "text/plain": [
       "[1, 2, 3]"
      ]
     },
     "execution_count": 116,
     "metadata": {},
     "output_type": "execute_result"
    }
   ],
   "source": [
    "my_list = [1, 2, 3]\n",
    "my_list"
   ]
  },
  {
   "cell_type": "code",
   "execution_count": 118,
   "id": "b91001a4-6e6b-43e4-8bb7-041b2fb9bf0e",
   "metadata": {},
   "outputs": [
    {
     "data": {
      "text/plain": [
       "[10, 2, 3]"
      ]
     },
     "execution_count": 118,
     "metadata": {},
     "output_type": "execute_result"
    }
   ],
   "source": [
    "my_list[0]=10  # modify the value to the 10\n",
    "my_list        # get the modify output"
   ]
  },
  {
   "cell_type": "code",
   "execution_count": 131,
   "id": "2bad83d4-0683-4f85-86e4-2ccf089804a5",
   "metadata": {},
   "outputs": [
    {
     "data": {
      "text/plain": [
       "(1, 2, 3)"
      ]
     },
     "execution_count": 131,
     "metadata": {},
     "output_type": "execute_result"
    }
   ],
   "source": [
    "my_tuple = (1, 2, 3)\n",
    "my_tuple"
   ]
  },
  {
   "cell_type": "code",
   "execution_count": 132,
   "id": "6299caa1-6d47-4754-93ce-24623c168447",
   "metadata": {},
   "outputs": [
    {
     "ename": "TypeError",
     "evalue": "'tuple' object does not support item assignment",
     "output_type": "error",
     "traceback": [
      "\u001b[31m---------------------------------------------------------------------------\u001b[39m",
      "\u001b[31mTypeError\u001b[39m                                 Traceback (most recent call last)",
      "\u001b[36mCell\u001b[39m\u001b[36m \u001b[39m\u001b[32mIn[132]\u001b[39m\u001b[32m, line 1\u001b[39m\n\u001b[32m----> \u001b[39m\u001b[32m1\u001b[39m \u001b[43mmy_tuple\u001b[49m\u001b[43m[\u001b[49m\u001b[32;43m0\u001b[39;49m\u001b[43m]\u001b[49m=\u001b[32m10\u001b[39m\n",
      "\u001b[31mTypeError\u001b[39m: 'tuple' object does not support item assignment"
     ]
    }
   ],
   "source": [
    "my_tuple[0]=10  # tuple is immutable so it raise an error"
   ]
  },
  {
   "cell_type": "code",
   "execution_count": null,
   "id": "d806b97b-aeaf-4edc-b7f4-97f1ed1001dc",
   "metadata": {},
   "outputs": [],
   "source": []
  },
  {
   "cell_type": "code",
   "execution_count": null,
   "id": "933006c6-03af-435b-9524-ed82b3de5d35",
   "metadata": {},
   "outputs": [],
   "source": [
    "#Q.6 Write a function to demonstrate the behavior of mutable and immutable arguments."
   ]
  },
  {
   "cell_type": "code",
   "execution_count": 133,
   "id": "bd9ee3ad-cc5b-48b5-86d4-4ec973f83f39",
   "metadata": {},
   "outputs": [
    {
     "name": "stdout",
     "output_type": "stream",
     "text": [
      "List after function call: [1, 2, 3, 4]\n",
      "Number after function call: 10\n"
     ]
    }
   ],
   "source": [
    "def modify_data(lst, num):\n",
    "    lst.append(4)  # Modifies the original list (mutable)\n",
    "    num += 1  # Creates a new integer (immutable)\n",
    "\n",
    "my_list = [1, 2, 3]\n",
    "my_num = 10\n",
    "\n",
    "modify_data(my_list, my_num)\n",
    "print(\"List after function call:\", my_list)  # Modified\n",
    "print(\"Number after function call:\", my_num)  # Not modified"
   ]
  },
  {
   "cell_type": "code",
   "execution_count": null,
   "id": "1bb876d7-317c-4b84-9c3f-a129cd6d2b90",
   "metadata": {},
   "outputs": [],
   "source": []
  },
  {
   "cell_type": "code",
   "execution_count": null,
   "id": "109636a4-6c43-4108-b8ad-53dff1600665",
   "metadata": {},
   "outputs": [],
   "source": [
    "#Q.7 Write a function to demonstrate the behavior of mutable and immutable arguments0"
   ]
  },
  {
   "cell_type": "code",
   "execution_count": 146,
   "id": "9a1be467-abd5-400b-b0ca-643ab2017f17",
   "metadata": {},
   "outputs": [
    {
     "name": "stdout",
     "output_type": "stream",
     "text": [
      "Before function call:\n",
      "List: [1, 2, 3]\n",
      "Number: 50\n",
      "Inside function (list modified): [1, 2, 3, 100]\n",
      "Inside function (number modified): 60\n",
      "After function call:\n",
      "List: [1, 2, 3, 100]\n",
      "Number: 50\n"
     ]
    }
   ],
   "source": [
    "#Ans >>\n",
    "\n",
    "def demonstrate_mutable_immutable(lst, num):\n",
    "    # Modifying the list (mutable)\n",
    "    lst.append(100)\n",
    "    print(\"Inside function (list modified):\", lst)\n",
    "    \n",
    "    # Modifying the number (immutable)\n",
    "    num += 10\n",
    "    print(\"Inside function (number modified):\", num)\n",
    "\n",
    "\n",
    "# Mutable argument (list)\n",
    "my_list = [1, 2, 3]\n",
    "# Immutable argument (integer)\n",
    "my_num = 50\n",
    "\n",
    "print(\"Before function call:\")\n",
    "print(\"List:\", my_list)\n",
    "print(\"Number:\", my_num)\n",
    "\n",
    "# Call the function\n",
    "demonstrate_mutable_immutable(my_list, my_num)\n",
    "\n",
    "print(\"After function call:\")\n",
    "print(\"List:\", my_list)  # Modified outside function (Mutable)\n",
    "print(\"Number:\", my_num)  # Remains the same outside function (Immutable)\n"
   ]
  },
  {
   "cell_type": "code",
   "execution_count": null,
   "id": "b681bc4d-db44-4974-ad23-49ac4bdf1d1a",
   "metadata": {},
   "outputs": [],
   "source": []
  },
  {
   "cell_type": "code",
   "execution_count": null,
   "id": "b3e19e71-768d-4e71-b3ce-6de1ff7c0f9b",
   "metadata": {},
   "outputs": [],
   "source": [
    "# Q.8. Write a program to demonstrate the use of logical operators."
   ]
  },
  {
   "cell_type": "code",
   "execution_count": 134,
   "id": "5b596909-edaf-46f8-af3f-5f0dc00686cf",
   "metadata": {},
   "outputs": [
    {
     "name": "stdout",
     "output_type": "stream",
     "text": [
      "a and b: False\n",
      "a or b: True\n",
      "not a: False\n"
     ]
    }
   ],
   "source": [
    "a = True\n",
    "b = False\n",
    "print(\"a and b:\", a and b)\n",
    "print(\"a or b:\", a or b)\n",
    "print(\"not a:\", not a)"
   ]
  },
  {
   "cell_type": "code",
   "execution_count": null,
   "id": "5f3581f6-4670-4e2b-b3c2-ea953cc166f5",
   "metadata": {},
   "outputs": [],
   "source": []
  },
  {
   "cell_type": "code",
   "execution_count": 135,
   "id": "b4725060-4d77-47b8-9a30-448ff8d672ce",
   "metadata": {},
   "outputs": [
    {
     "name": "stdin",
     "output_type": "stream",
     "text": [
      "Enter a number:  55\n"
     ]
    },
    {
     "name": "stdout",
     "output_type": "stream",
     "text": [
      "Integer: 55\n",
      "Float: 55.0\n",
      "Boolean: True\n"
     ]
    }
   ],
   "source": [
    "# Q.9. Write a Python program to convert user input from string to integer, float, and boolean types.\n",
    "\n",
    "user_input = input(\"Enter a number: \")\n",
    "print(\"Integer:\", int(user_input))\n",
    "print(\"Float:\", float(user_input))\n",
    "print(\"Boolean:\", bool(user_input))"
   ]
  },
  {
   "cell_type": "code",
   "execution_count": null,
   "id": "af420779-0a1c-4496-9288-241453474c88",
   "metadata": {},
   "outputs": [],
   "source": []
  },
  {
   "cell_type": "code",
   "execution_count": 145,
   "id": "1f79473b-eff2-4a2b-b812-579305649628",
   "metadata": {},
   "outputs": [
    {
     "name": "stdout",
     "output_type": "stream",
     "text": [
      "Converted list: [10, 20, 30]\n"
     ]
    }
   ],
   "source": [
    "# Q.10. Write code to demonstrate type casting with list elements.\n",
    "\n",
    "#Ans >>\n",
    "\n",
    "\n",
    "num_list = [\"10\", \"20\", \"30\"]\n",
    "int_list = [int(i) for i in num_list]  # Convert list of strings to integers\n",
    "print(\"Converted list:\", int_list)"
   ]
  },
  {
   "cell_type": "code",
   "execution_count": null,
   "id": "38ed0359-b529-4f9a-bc33-41c5589b756c",
   "metadata": {},
   "outputs": [],
   "source": []
  },
  {
   "cell_type": "code",
   "execution_count": 147,
   "id": "4cf62089-4dff-42af-9254-354a66df8d05",
   "metadata": {},
   "outputs": [
    {
     "name": "stdin",
     "output_type": "stream",
     "text": [
      "Enter a number:  12\n"
     ]
    },
    {
     "name": "stdout",
     "output_type": "stream",
     "text": [
      "Positive\n"
     ]
    }
   ],
   "source": [
    "# Q.11. Write a program that checks if a number is positive, negative, or zero.\n",
    "\n",
    "#Ans>>\n",
    "\n",
    "num = int(input(\"Enter a number: \"))\n",
    "if num > 0:\n",
    "    print(\"Positive\")\n",
    "elif num < 0:\n",
    "    print(\"Negative\")\n",
    "else:\n",
    "    print(\"Zero\")"
   ]
  },
  {
   "cell_type": "code",
   "execution_count": null,
   "id": "4720b3f7-6db9-4a86-bb9e-cabbd59ab397",
   "metadata": {},
   "outputs": [],
   "source": []
  },
  {
   "cell_type": "code",
   "execution_count": 148,
   "id": "9f75f533-f1bb-4816-836f-3443469930ee",
   "metadata": {},
   "outputs": [
    {
     "name": "stdout",
     "output_type": "stream",
     "text": [
      "1\n",
      "2\n",
      "3\n",
      "4\n",
      "5\n",
      "6\n",
      "7\n",
      "8\n",
      "9\n",
      "10\n"
     ]
    }
   ],
   "source": [
    "# Q.12  Write a for loop to print numbers from 1 to 10.\n",
    "#Ans >>\n",
    "\n",
    "for i in range(1, 11):\n",
    "    print(i)"
   ]
  },
  {
   "cell_type": "code",
   "execution_count": null,
   "id": "90627c74-c516-40b2-bdeb-5e62fccdb71d",
   "metadata": {},
   "outputs": [],
   "source": []
  },
  {
   "cell_type": "code",
   "execution_count": 149,
   "id": "b91c5c1f-f7cc-4f60-b8e7-360828b135de",
   "metadata": {},
   "outputs": [
    {
     "name": "stdout",
     "output_type": "stream",
     "text": [
      "Sum of even numbers: 650\n"
     ]
    }
   ],
   "source": [
    "# Q13 Write a Python program to find the sum of all even numbers between 1 and 50.\n",
    "\n",
    "#Ans >>\n",
    "\n",
    "sum_even = sum(i for i in range(1, 51) if i % 2 == 0)\n",
    "print(\"Sum of even numbers:\", sum_even)"
   ]
  },
  {
   "cell_type": "code",
   "execution_count": null,
   "id": "92aecfb1-44d4-4122-81b5-a81bad2182f2",
   "metadata": {},
   "outputs": [],
   "source": []
  },
  {
   "cell_type": "code",
   "execution_count": 150,
   "id": "2e2510c1-9612-4e0c-bc27-fe788df7c573",
   "metadata": {},
   "outputs": [
    {
     "name": "stdin",
     "output_type": "stream",
     "text": [
      "Enter a string:  Vishal\n"
     ]
    },
    {
     "name": "stdout",
     "output_type": "stream",
     "text": [
      "Reversed string: lahsiV\n"
     ]
    }
   ],
   "source": [
    "\n",
    "# Q.14 Write a program to reverse a string using a while loop.\n",
    "\n",
    "#Ans >>\n",
    "\n",
    "s = input(\"Enter a string: \")\n",
    "reversed_str = \"\"\n",
    "i = len(s) - 1\n",
    "while i >= 0:\n",
    "    reversed_str += s[i]\n",
    "    i -= 1\n",
    "print(\"Reversed string:\", reversed_str)"
   ]
  },
  {
   "cell_type": "code",
   "execution_count": null,
   "id": "1f06c3b3-bf4f-4503-b16e-cd65cf509d54",
   "metadata": {},
   "outputs": [],
   "source": []
  },
  {
   "cell_type": "code",
   "execution_count": 152,
   "id": "300be92c-33b8-4065-9959-88484d2528c2",
   "metadata": {},
   "outputs": [
    {
     "name": "stdin",
     "output_type": "stream",
     "text": [
      "Enter a number:  25\n"
     ]
    },
    {
     "name": "stdout",
     "output_type": "stream",
     "text": [
      "Factorial: 15511210043330985984000000\n"
     ]
    }
   ],
   "source": [
    "# Q.15 Write a Python program to calculate the factorial of a number using a while loop.\n",
    "#Ans >>\n",
    "\n",
    "num = int(input(\"Enter a number: \"))\n",
    "fact = 1\n",
    "while num > 1:\n",
    "    fact *= num\n",
    "    num -= 1\n",
    "print(\"Factorial:\", fact)"
   ]
  },
  {
   "cell_type": "code",
   "execution_count": null,
   "id": "90d867f1-b416-4f42-bfa8-a0034458b0fb",
   "metadata": {},
   "outputs": [],
   "source": []
  },
  {
   "cell_type": "code",
   "execution_count": null,
   "id": "322d0ee7-c139-43b8-b269-8c8791cb34c2",
   "metadata": {},
   "outputs": [],
   "source": []
  },
  {
   "cell_type": "code",
   "execution_count": null,
   "id": "0097f426-438e-4b8f-9950-37f2f73d1560",
   "metadata": {},
   "outputs": [],
   "source": []
  },
  {
   "cell_type": "code",
   "execution_count": null,
   "id": "e0855c96-eae5-4075-98dd-5ca27e27271a",
   "metadata": {},
   "outputs": [],
   "source": []
  }
 ],
 "metadata": {
  "kernelspec": {
   "display_name": "Python 3 (ipykernel)",
   "language": "python",
   "name": "python3"
  },
  "language_info": {
   "codemirror_mode": {
    "name": "ipython",
    "version": 3
   },
   "file_extension": ".py",
   "mimetype": "text/x-python",
   "name": "python",
   "nbconvert_exporter": "python",
   "pygments_lexer": "ipython3",
   "version": "3.13.2"
  }
 },
 "nbformat": 4,
 "nbformat_minor": 5
}
